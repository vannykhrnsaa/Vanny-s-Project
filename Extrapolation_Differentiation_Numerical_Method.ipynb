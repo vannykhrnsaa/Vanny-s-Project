{
  "nbformat": 4,
  "nbformat_minor": 0,
  "metadata": {
    "colab": {
      "provenance": []
    },
    "kernelspec": {
      "name": "python3",
      "display_name": "Python 3"
    },
    "language_info": {
      "name": "python"
    }
  },
  "cells": [
    {
      "cell_type": "markdown",
      "source": [
        "#Identitas\n",
        "Nama : Vanny Khairunnisaa\n",
        "\n",
        "NPM : 2206051506\n",
        "\n",
        "Kelas : Metode Numerik A\n",
        "\n",
        "Dosen Pengampu : Ibu Bevina"
      ],
      "metadata": {
        "id": "vq4gkvqeQrWF"
      }
    },
    {
      "cell_type": "markdown",
      "source": [
        "#Penjelasan Program"
      ],
      "metadata": {
        "id": "cDT0VVfDQuE0"
      }
    },
    {
      "cell_type": "markdown",
      "source": [
        "##Ide Algoritma\n",
        "1. Menggunakan module sympy, numpy, dan tabulate untuk membantu dalam membuat program\n",
        "2. Program sudah berisikan NPM dan k. Nilai k berasal dari 1 + NPM mod 4.\n",
        "3. Program akan meminta input f(x) yang mengandung nilai k.\n",
        "4. Program akan meminta nilai x yang akan diproses.\n",
        "5. Program akan meminta nilai h untuk ke- 5 diferensiasi numerik di bawah ini\n",
        "    a. Forward-Difference\n",
        "\n",
        "    b. Three-Point Endpoint\n",
        "\n",
        "    c. Three-Point Midpoint\n",
        "\n",
        "    d. Five-Point Endpoint\n",
        "\n",
        "    e. Five-Point Midpoint\n",
        "\n",
        "6. Program akan meminta nilai h untuk ekstrapolasi richardson. Ekstrapolasi richardson tersebut akan diterapkan dengan metode sesuai k yang diperoleh, seperti di bawah ini\n",
        "    a. Three-Point Endpoint untuk k=1\n",
        "\n",
        "    b. Three-Point Midpoint untuk k=2\n",
        "\n",
        "    c. Five-Point Endpoint untuk k=3\n",
        "\n",
        "    d. Five-Point Midpoint untuk k=4\n",
        "\n",
        "7. Program akan memberikan output turunan pertama dari masing-masing metode diferensiasi numerik\n",
        "\n",
        "8. Program akan memberikan output turunan kedua menggunakan Second Derivative Midpoint\n",
        "\n",
        "9. Program akan memberikan output berupa tabel O(h^2j) dengan data N1(h), N1(h/2), N1(h/4), dan N1(h/8).\n",
        "\n",
        "10. Program akan mengulangi proses programmingnya apabila user meminta untuk mengulanginya.\n",
        "11. Program selesai.\n"
      ],
      "metadata": {
        "id": "ZvpNl1MTQv9M"
      }
    },
    {
      "cell_type": "markdown",
      "source": [
        "##Cara eksekusi:\n",
        "\n",
        "1. Klik \"Runtime\" pada bar menu di atas dan pilih \"Run All\".\n",
        "2. Buat code baru di bawah dan tuliskan \"VannyNugasMetnum3()\"\n",
        "3. Masukkan semua data yang diminta oleh program.\n",
        "4. Program akan memberikan output yang telah dijelaskan pada ide algoritma di atas.\n",
        "5. Apabila user ingin mengulang program, pada akhir program input \"y\" untuk mengulang program.\n",
        "6. Apabila user sudah cukup menggunakan program, pada akhir program input \"n\" atau kata apapun selain \"y\" untuk tidak mengulangi program."
      ],
      "metadata": {
        "id": "M4R4j3T2QycT"
      }
    },
    {
      "cell_type": "markdown",
      "source": [
        "##Data yang ada pada perintah Tugas Praktikum METNUM 2\n",
        "1. f(x)= x * arctan(x - k) - log(sqrt(x**2 + 1)) + (1+sin(x))**(k*x)\n",
        "2. Nilai x = pi\n",
        "3. Nilai h untuk diferensiasi numerik = 0.01\n",
        "4. Nilai h ekstrapolasi richardson = 0.1"
      ],
      "metadata": {
        "id": "QmUeZERhQ2Oz"
      }
    },
    {
      "cell_type": "markdown",
      "source": [
        "#Import Module"
      ],
      "metadata": {
        "id": "4FXHB7z7Q4nV"
      }
    },
    {
      "cell_type": "code",
      "execution_count": null,
      "metadata": {
        "id": "KAEpoZkLQjMd"
      },
      "outputs": [],
      "source": [
        "from numpy import sin, cos, tan, log, exp, pi, e, arctan, sqrt\n",
        "from tabulate import tabulate"
      ]
    },
    {
      "cell_type": "markdown",
      "source": [
        "#Fungsi yang dioprasikan"
      ],
      "metadata": {
        "id": "tKxK-8qZeHNo"
      }
    },
    {
      "cell_type": "code",
      "source": [
        "def FBDiff(x,h,k,formula): #Forward/Backward-Difference\n",
        "    def f(x,k):\n",
        "        return eval(formula)\n",
        "    return (f(x+h,k)-f(x,k))/h\n",
        "\n",
        "def TPEP(x,h,k,formula): # Three-Point End Point\n",
        "    def f(x,k):\n",
        "        return eval(formula)\n",
        "    return (1/(2*h)) * (-3*f(x,k) + 4*f(x+h,k) - f(x+2*h,k))\n",
        "\n",
        "def TPMP(x,h,k,formula): # Three-Point Mid Point\n",
        "    def f(x,k):\n",
        "        return eval(formula)\n",
        "    return (1/(2*h)) * (f(x+h,k) - f(x-h,k))\n",
        "\n",
        "def FPEP(x,h,k,formula): # Five-Point End Point\n",
        "    def f(x,k):\n",
        "        return eval(formula)\n",
        "    return (1/(12*h)) * (-25*f(x,k) + 48*f(x+h,k) - 36*f(x+2*h,k) + 16*f(x+3*h,k) - 3*f(x+4*h,k))\n",
        "\n",
        "def FPMP(x,h,k,formula): # Five-Point Mid Point\n",
        "    def f(x,k):\n",
        "        return eval(formula)\n",
        "    return (1/(12*h)) * (f(x-2*h,k) - 8*f(x-h,k) + 8*f(x+h,k) - f(x+2*h,k))\n",
        "\n",
        "def SDMP(x,h,k,formula): # Second Derivative Mid Point\n",
        "    def f(x,k):\n",
        "        return eval(formula)\n",
        "    return (1/(h**2)) * (f(x-h,k) - 2*f(x,k) + f(x+h,k))\n",
        "\n",
        "def TambahkanRichardsonO2j(tabel_lama, N1baru):\n",
        "    # Duplikasi tabel lama menjadi tabel baru (karena akan dimodifikasi)\n",
        "    tabel_baru = []\n",
        "    for baris in tabel_lama:\n",
        "        calon_baris = []\n",
        "        for nilai in baris:\n",
        "            calon_baris.append(nilai)\n",
        "        tabel_baru.append(calon_baris)\n",
        "\n",
        "    # Tambahkan kolom kosong pada baris-baris yang sudah ada\n",
        "    for i in range(len(tabel_baru)):\n",
        "        tabel_baru[i].append(\"\")\n",
        "\n",
        "    # Membuat baris baru...\n",
        "    baris_baru = [N1baru]\n",
        "    # ... dengan kolom sebanyak len(tabel_lama)+1:\n",
        "    for i in range(len(tabel_lama)):\n",
        "        baris_baru.append(\"\")\n",
        "    # meskipun saat ini kosong, setelah ini akan diisi sesuai rumus.\n",
        "    # Tambahkan dulu ke tabel (sebagai baris paling bawah terbaru):\n",
        "    tabel_baru.append(baris_baru)\n",
        "\n",
        "    # Mengisi baris paling bawah\n",
        "    k = len(baris_baru) # banyaknya titik termasuk titik baru\n",
        "    i = k-1 # baris baru adalah baris ke-k, dengan indeks (k-1)\n",
        "    for j in range(1, k): # untuk kolom N2 (indeks 1), N3 (indeks 2), ...\n",
        "        # N_{j-1} (h) yaitu ke atas satu langkah, ke kiri satu langkah\n",
        "        Nj1h = tabel_baru[i-1][j-1]\n",
        "\n",
        "        # N_{j-1} (h/2) yaitu ke kiri satu langkah\n",
        "        Nj1h2 = tabel_baru[i][j-1]\n",
        "\n",
        "        # Pada rumus, \"j\" yang dimaksud bukanlah indeks, tapi kolom ke-j,\n",
        "        # sehingga indeks 1 adalah kolom ke-2, indeks 2 adalah kolom ke-3, dst\n",
        "        j_kolom = j+1\n",
        "\n",
        "        # nilai baru, N_j (h), menggunakan rumus rekursif\n",
        "        tabel_baru[i][j] = Nj1h2 + (Nj1h2 - Nj1h)/(4**(j_kolom-1) - 1)\n",
        "\n",
        "    # Tabel sudah jadi\n",
        "    return tabel_baru\n",
        "\n",
        "def EkstrapolasiRichardsonO2j(list_N1):\n",
        "    # Awal membuat tabel\n",
        "    tabel_mentah = [\n",
        "        [list_N1[0]]\n",
        "    ]\n",
        "    # mula-mula, hanya ada satu nilai yaitu N1 (h),\n",
        "    # sehingga hanya ada satu baris dan satu kolom\n",
        "\n",
        "    # banyaknya baris/kolom untuk tabel yang akan dibuat\n",
        "    k = len(list_N1)\n",
        "\n",
        "    # lakukan TambahkanRichardsonO2j untuk tiap titik berikutnya\n",
        "    for i in range(1, k):\n",
        "        tabel_mentah = TambahkanRichardsonO2j(tabel_mentah, list_N1[i])\n",
        "\n",
        "    # Mengolah tabel menggunakan tabulate\n",
        "    list_header = []\n",
        "    for i in range(k):\n",
        "        list_header.append(\"O(h^{0})\".format(2*(i+1)))\n",
        "    tabel_olahan = tabulate(tabel_mentah, headers=list_header,\n",
        "                            tablefmt=\"orgtbl\")\n",
        "\n",
        "    print(\"Tabel Ekstrapolasi Richardson untuk O(h^2j)\")\n",
        "\n",
        "    print(tabel_olahan)\n",
        "\n",
        "def VannyNugasMetnum3():\n",
        "        ulang = \"y\" #ketentuan terjadi pengulangan\n",
        "        while ulang == \"y\": #while function untuk melakukan pengulangan\n",
        "            print(\"Program ini akan mengaproksimasi nilai turunan f(x)\")\n",
        "            print(\"dengan metode diferensiasi numerik dan ekstrapolasi Richardson.\")\n",
        "            print(\"NPM saya adalah 2206051506 sehingga k = 3.\")\n",
        "            k = 3 #k berdasarkan 1+(NPM mod 4)\n",
        "            print(\"Masukkan rumus f(x),\")\n",
        "            formula = input(\"boleh bergantung k: \") #input persamaan yang ingin digunakan\n",
        "\n",
        "            def f(x,k):\n",
        "                return eval(formula)\n",
        "\n",
        "\n",
        "            x0=eval(input(\"Masukkan nilai x: \")) #x0\n",
        "            h_numerik = eval(input(\"Masukkan nilai h untuk diferensiasi numerik: \")) #h untuk diferensisi numerik\n",
        "            h_richardson = eval(input(\"Masukkan nilai h untuk ekstrapolasi Richardson: \")) #h untuk ekstrapolasi richardson\n",
        "\n",
        "            print()\n",
        "\n",
        "            print(\"Turunan pertama dari f di x0 = {0} adalah : \".format(x0))\n",
        "\n",
        "            print(\"f'({0}) = {1} (Forward/Backward-Difference)\".format(x0,FBDiff(x0,h_numerik,k,formula)))\n",
        "\n",
        "            print(\"f'({0}) = {1} (Three Point Endpoint)\".format(x0,TPEP(x0,h_numerik,k,formula)))\n",
        "\n",
        "            print(\"f'({0}) = {1} (Three Point Midpoint)\".format(x0,TPMP(x0,h_numerik,k,formula)))\n",
        "\n",
        "            print(\"f'({0}) = {1} (Five Point Endpoint)\".format(x0,FPEP(x0,h_numerik,k,formula)))\n",
        "\n",
        "            print(\"f'({0}) = {1} (Five Point Midpoint)\".format(x0,FPMP(x0,h_numerik,k,formula)))\n",
        "\n",
        "            print()\n",
        "\n",
        "            print(\"Turunan kedua dari f di x0 = {0} adalah : \".format(x0))\n",
        "\n",
        "            print(\"f''({0}) = {1} (Second Derivative Midpoint)\".format(x0,SDMP(x0,h_numerik,k,formula)))\n",
        "\n",
        "            print()\n",
        "\n",
        "            print(\"Karena k = 3, ekstrapolasi Richardson akan diterapkan pada metode Five-Point Endpoint (FPEP).\")\n",
        "\n",
        "            n1h=FPEP(x0,h_richardson,k,formula) #N1 h\n",
        "            n1h_2 = FPEP(x0,h_richardson/2,k,formula) #N1 h/2\n",
        "            n1h_4 = FPEP(x0,h_richardson/4,k,formula) #N1 h/4\n",
        "            n1h_8 = FPEP(x0,h_richardson/8,k,formula) #N1 h/8\n",
        "\n",
        "            listn1=[n1h,n1h_2,n1h_4,n1h_8]\n",
        "            print()\n",
        "            EkstrapolasiRichardsonO2j(listn1)\n",
        "\n",
        "            ulang = input(\"Apakah Anda ingin mengulang program? (y/n): \")\n",
        "            print()\n",
        "        print(\"Terima kasih telah menggunakan program.\")"
      ],
      "metadata": {
        "id": "2VbyznumRPtB"
      },
      "execution_count": null,
      "outputs": []
    },
    {
      "cell_type": "code",
      "source": [
        "VannyNugasMetnum3()"
      ],
      "metadata": {
        "colab": {
          "base_uri": "https://localhost:8080/"
        },
        "id": "Zzz6Mj3unBWV",
        "outputId": "958f7ffc-cccc-4424-f63c-3b5778b4b99f"
      },
      "execution_count": null,
      "outputs": [
        {
          "output_type": "stream",
          "name": "stdout",
          "text": [
            "Program ini akan mengaproksimasi nilai turunan f(x)\n",
            "dengan metode diferensiasi numerik dan ekstrapolasi Richardson.\n",
            "NPM saya adalah 2206051506 sehingga k = 3.\n",
            "Masukkan rumus f(x),\n",
            "boleh bergantung k: x * arctan(x - k) - log(sqrt(x**2 + 1)) + (1+sin(x))**(k*x)\n",
            "Masukkan nilai x: pi\n",
            "Masukkan nilai h untuk diferensiasi numerik: 0.01\n",
            "Masukkan nilai h untuk ekstrapolasi Richardson: 0.1\n",
            "\n",
            "Turunan pertama dari f di x0 = 3.141592653589793 adalah : \n",
            "f'(3.141592653589793) = -6.127440974910225 (Forward/Backward-Difference)\n",
            "f'(3.141592653589793) = -6.4793757827599165 (Three Point Endpoint)\n",
            "f'(3.141592653589793) = -6.5003966847775985 (Three Point Midpoint)\n",
            "f'(3.141592653589793) = -6.493313955104585 (Five Point Endpoint)\n",
            "f'(3.141592653589793) = -6.493302409810006 (Five Point Midpoint)\n",
            "\n",
            "Turunan kedua dari f di x0 = 3.141592653589793 adalah : \n",
            "f''(3.141592653589793) = 74.5911419734746 (Second Derivative Midpoint)\n",
            "\n",
            "Karena k = 3, ekstrapolasi Richardson akan diterapkan pada metode Five-Point Endpoint (FPEP).\n",
            "\n",
            "Tabel Ekstrapolasi Richardson untuk O(h^2j)\n",
            "|   O(h^2) | O(h^4)             | O(h^6)             | O(h^8)            |\n",
            "|----------+--------------------+--------------------+-------------------|\n",
            "| -6.43131 |                    |                    |                   |\n",
            "| -6.49473 | -6.515873888170528 |                    |                   |\n",
            "| -6.49367 | -6.493317029829442 | -6.49181323927337  |                   |\n",
            "| -6.49333 | -6.493220173705536 | -6.493213716630609 | -6.49323594642993 |\n",
            "Apakah Anda ingin mengulang program? (y/n): n\n",
            "\n",
            "Terima kasih telah menggunakan program.\n"
          ]
        }
      ]
    }
  ]
}