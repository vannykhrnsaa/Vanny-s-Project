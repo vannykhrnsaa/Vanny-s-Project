{
  "nbformat": 4,
  "nbformat_minor": 0,
  "metadata": {
    "colab": {
      "provenance": []
    },
    "kernelspec": {
      "name": "python3",
      "display_name": "Python 3"
    },
    "language_info": {
      "name": "python"
    }
  },
  "cells": [
    {
      "cell_type": "markdown",
      "source": [
        "Pernyataan Kondisional, kalo mau dipakein string kaya x+a gitu, a nya perlu pake \"a\" biar ga error\n",
        "\n",
        "```\n",
        "# This is formatted as code\n",
        "```\n",
        "\n"
      ],
      "metadata": {
        "id": "KoEPvShxmt2y"
      }
    },
    {
      "cell_type": "code",
      "execution_count": null,
      "metadata": {
        "id": "k6Sfl3T8lhSw",
        "colab": {
          "base_uri": "https://localhost:8080/"
        },
        "outputId": "991e9af1-8794-49df-d9e9-eae61aadae0c"
      },
      "outputs": [
        {
          "output_type": "stream",
          "name": "stdout",
          "text": [
            "Masukan sebuah bilangan: 8\n",
            "Bilangan Positif\n"
          ]
        }
      ],
      "source": [
        "x = eval(input(\"Masukan sebuah bilangan: \"))\n",
        "if x>0:\n",
        "  print(\"Bilangan Positif\")\n",
        "elif x<0:\n",
        "  print(\"Bilangan Negatif\")\n",
        "elif x==0:\n",
        "  print(\"0\")"
      ]
    },
    {
      "cell_type": "markdown",
      "source": [
        "LOOPING\n",
        "ada while, ada for loop,"
      ],
      "metadata": {
        "id": "ASc3v0LopRDw"
      }
    },
    {
      "cell_type": "markdown",
      "source": [
        "kalo range nanti araynya akan selalu dari nol."
      ],
      "metadata": {
        "id": "faywzDwGpuq3"
      }
    },
    {
      "cell_type": "code",
      "source": [
        "for i in range (4):\n",
        "  print(i)\n",
        "print(\"For Loop Example 2\")\n",
        "for i in range (0,5):\n",
        "  print (i)\n",
        "print(\"Contoh For Loop 3\")\n",
        "for i in range (0,8,3):\n",
        "  print (i)\n",
        "print(\"Contoh For Loop 4\")\n",
        "for i in range (9,1,-1):\n",
        "  print (i)\n",
        "print (\"Contoh 5\")\n",
        "for i"
      ],
      "metadata": {
        "colab": {
          "base_uri": "https://localhost:8080/"
        },
        "id": "-z0X0sSAnDR_",
        "outputId": "eaa86d99-9fcc-45fa-a253-08654d815276"
      },
      "execution_count": null,
      "outputs": [
        {
          "output_type": "stream",
          "name": "stdout",
          "text": [
            "0\n",
            "1\n",
            "2\n",
            "3\n",
            "For Loop Example 2\n",
            "0\n",
            "1\n",
            "2\n",
            "3\n",
            "4\n",
            "Contoh For Loop 3\n",
            "0\n",
            "3\n",
            "6\n",
            "Contoh For Loop 4\n",
            "9\n",
            "8\n",
            "7\n",
            "6\n",
            "5\n",
            "4\n",
            "3\n",
            "2\n",
            "Contoh 5\n"
          ]
        }
      ]
    },
    {
      "cell_type": "code",
      "source": [
        "i=0\n",
        "while i <= 5:\n",
        "  print(i+7)\n",
        "  i +=1\n",
        "print (\"Done\")"
      ],
      "metadata": {
        "colab": {
          "base_uri": "https://localhost:8080/"
        },
        "id": "CX5GoczurS0w",
        "outputId": "ddb4ea50-34f7-4db7-a103-37112af7c1ea"
      },
      "execution_count": null,
      "outputs": [
        {
          "output_type": "stream",
          "name": "stdout",
          "text": [
            "7\n",
            "8\n",
            "9\n",
            "10\n",
            "11\n",
            "12\n",
            "Done\n"
          ]
        }
      ]
    },
    {
      "cell_type": "markdown",
      "source": [
        "Error Handling"
      ],
      "metadata": {
        "id": "ZmBqteR8r_FA"
      }
    },
    {
      "cell_type": "code",
      "source": [
        "1/0"
      ],
      "metadata": {
        "colab": {
          "base_uri": "https://localhost:8080/",
          "height": 165
        },
        "id": "LLMXmpQ0r84a",
        "outputId": "14f7073f-c72e-4a7c-f4c9-7273e27d68af"
      },
      "execution_count": null,
      "outputs": [
        {
          "output_type": "error",
          "ename": "ZeroDivisionError",
          "evalue": "ignored",
          "traceback": [
            "\u001b[0;31m---------------------------------------------------------------------------\u001b[0m",
            "\u001b[0;31mZeroDivisionError\u001b[0m                         Traceback (most recent call last)",
            "\u001b[0;32m<ipython-input-10-9e1622b385b6>\u001b[0m in \u001b[0;36m<module>\u001b[0;34m\u001b[0m\n\u001b[0;32m----> 1\u001b[0;31m \u001b[0;36m1\u001b[0m\u001b[0;34m/\u001b[0m\u001b[0;36m0\u001b[0m\u001b[0;34m\u001b[0m\u001b[0;34m\u001b[0m\u001b[0m\n\u001b[0m",
            "\u001b[0;31mZeroDivisionError\u001b[0m: division by zero"
          ]
        }
      ]
    },
    {
      "cell_type": "code",
      "source": [
        "try:\n",
        "  x=eval(input(\"Integer tak nol: \"))\n",
        "  print(1/x)\n",
        "except:\n",
        "  print(\"Xnya masih nol\")\n",
        "\n",
        "#nanti digunain buat metnum di bisception method"
      ],
      "metadata": {
        "colab": {
          "base_uri": "https://localhost:8080/"
        },
        "id": "9LEbqONBsbd2",
        "outputId": "8d42065a-76e1-48f4-872c-3b0927d08110"
      },
      "execution_count": null,
      "outputs": [
        {
          "output_type": "stream",
          "name": "stdout",
          "text": [
            "Integer tak nol: 0\n",
            "Xnya masih nol\n"
          ]
        }
      ]
    },
    {
      "cell_type": "code",
      "source": [
        "\"2\" + 2"
      ],
      "metadata": {
        "colab": {
          "base_uri": "https://localhost:8080/",
          "height": 165
        },
        "id": "MMeed8OWsHkY",
        "outputId": "f77fd932-5507-48de-8174-8a3874ad2970"
      },
      "execution_count": null,
      "outputs": [
        {
          "output_type": "error",
          "ename": "TypeError",
          "evalue": "ignored",
          "traceback": [
            "\u001b[0;31m---------------------------------------------------------------------------\u001b[0m",
            "\u001b[0;31mTypeError\u001b[0m                                 Traceback (most recent call last)",
            "\u001b[0;32m<ipython-input-11-192a1d19ca7a>\u001b[0m in \u001b[0;36m<module>\u001b[0;34m\u001b[0m\n\u001b[0;32m----> 1\u001b[0;31m \u001b[0;34m\"2\"\u001b[0m \u001b[0;34m+\u001b[0m \u001b[0;36m2\u001b[0m\u001b[0;34m\u001b[0m\u001b[0;34m\u001b[0m\u001b[0m\n\u001b[0m",
            "\u001b[0;31mTypeError\u001b[0m: can only concatenate str (not \"int\") to str"
          ]
        }
      ]
    },
    {
      "cell_type": "markdown",
      "source": [
        "Modul nanti berguna buat beberapa metode\n",
        "1. modul nummpy\n",
        "2. modul nebulet\n",
        "\n",
        "fungsinya dia menginstall perintah agar fungsi di phyton bisa digunakan"
      ],
      "metadata": {
        "id": "hteQspi7s-mg"
      }
    },
    {
      "cell_type": "code",
      "source": [
        "import numpy as np"
      ],
      "metadata": {
        "id": "P1hK2_8tsJiV"
      },
      "execution_count": null,
      "outputs": []
    },
    {
      "cell_type": "code",
      "source": [
        "A=np.array([True,4,7.5,\"Jean\"])\n",
        "B=np.array([5,6.2])\n",
        "C=np.array([1,2,3,4])"
      ],
      "metadata": {
        "id": "yziMA6GAtPRL"
      },
      "execution_count": null,
      "outputs": []
    },
    {
      "cell_type": "code",
      "source": [
        "P=np.array([[1,2],[5,0]])\n",
        "Q=np.array([[4,7],[1,8]])\n",
        "R=np.array([[1,2,20,1],[-1,0,-5,6]])\n",
        "#ini bisa buat bikin matriks"
      ],
      "metadata": {
        "id": "wytIiwtQtiXJ"
      },
      "execution_count": null,
      "outputs": []
    },
    {
      "cell_type": "code",
      "source": [
        "print(P)\n",
        "print(R)"
      ],
      "metadata": {
        "colab": {
          "base_uri": "https://localhost:8080/"
        },
        "id": "QZQn3hvPu8u2",
        "outputId": "d5a91711-ff55-4005-9046-ced486f87928"
      },
      "execution_count": null,
      "outputs": [
        {
          "output_type": "stream",
          "name": "stdout",
          "text": [
            "[[ 1  2]\n",
            " [-1  0]]\n",
            "[[ 1  2 20  1]\n",
            " [-1  0 -5  6]]\n"
          ]
        }
      ]
    },
    {
      "cell_type": "code",
      "source": [
        "Lisst=[1,2,3,-1,3]"
      ],
      "metadata": {
        "id": "tDsiP8DMvAO5"
      },
      "execution_count": null,
      "outputs": []
    },
    {
      "cell_type": "code",
      "source": [
        "lisst=[0]"
      ],
      "metadata": {
        "id": "NP0hDujevGPM"
      },
      "execution_count": null,
      "outputs": []
    },
    {
      "cell_type": "code",
      "source": [
        "print(A)\n",
        "print(A[0])\n",
        "print(A[-3])\n",
        "print(P)\n",
        "print(P[0,1])\n",
        "\n",
        "print(A[1:]) #manggil dari array ke 1 sampe akhir\n",
        "print(P[1:])"
      ],
      "metadata": {
        "colab": {
          "base_uri": "https://localhost:8080/"
        },
        "id": "AiXWC0K9vH-0",
        "outputId": "0efecbd6-7fbe-49b3-86d9-f2a37bedd76c"
      },
      "execution_count": null,
      "outputs": [
        {
          "output_type": "stream",
          "name": "stdout",
          "text": [
            "['True' '4' '7.5' 'Jean']\n",
            "True\n",
            "4\n",
            "[[ 1  2]\n",
            " [-1  0]]\n",
            "2\n",
            "['4' '7.5' 'Jean']\n",
            "[[-1  0]]\n"
          ]
        }
      ]
    },
    {
      "cell_type": "code",
      "source": [
        "print(\"Nilai P\")\n",
        "print(P)\n",
        "print(\"Nilai Q\")\n",
        "print(Q)\n",
        "print(\"Jumlah Matriks\")\n",
        "print(P+Q)\n",
        "print(\"Selisih Matriks\")\n",
        "print(P-Q)\n",
        "print(\"Perkalian Matriks\")\n",
        "print(P*Q)\n",
        "print(\"Pembagian Matriks\")\n",
        "print(P/Q)\n",
        "print(\"Modulo Matriks\")\n",
        "print(P%Q)\n",
        "print(\"Division\")\n",
        "print(P//Q)\n",
        "print(\"Pangkat\")\n",
        "print(P**Q)\n",
        "print(\"Operasi dengan nilai a\")\n",
        "print(P+2)"
      ],
      "metadata": {
        "colab": {
          "base_uri": "https://localhost:8080/"
        },
        "id": "GJayKRdNvJoV",
        "outputId": "8af2d7f3-7550-401f-bf17-ead67bbc3a15"
      },
      "execution_count": null,
      "outputs": [
        {
          "output_type": "stream",
          "name": "stdout",
          "text": [
            "Nilai P\n",
            "[[1 2]\n",
            " [5 0]]\n",
            "Nilai Q\n",
            "[[4 7]\n",
            " [1 8]]\n",
            "Jumlah Matriks\n",
            "[[5 9]\n",
            " [6 8]]\n",
            "Selisih Matriks\n",
            "[[-3 -5]\n",
            " [ 4 -8]]\n",
            "Perkalian Matriks\n",
            "[[ 4 14]\n",
            " [ 5  0]]\n",
            "Pembagian Matriks\n",
            "[[0.25       0.28571429]\n",
            " [5.         0.        ]]\n",
            "Modulo Matriks\n",
            "[[1 2]\n",
            " [0 0]]\n",
            "Division\n",
            "[[0 0]\n",
            " [5 0]]\n",
            "Pangkat\n",
            "[[  1 128]\n",
            " [  5   0]]\n",
            "Operasi dengan nilai a\n",
            "[[3 4]\n",
            " [7 2]]\n"
          ]
        }
      ]
    },
    {
      "cell_type": "code",
      "source": [
        "from tabulate import tabulate\n",
        "#kalo tabulate gapake bintang cmn fungsi tabulate yang umum aja kalo yang pake bintang brrti semua"
      ],
      "metadata": {
        "id": "KxcZ06V2yOxy"
      },
      "execution_count": null,
      "outputs": []
    },
    {
      "cell_type": "code",
      "source": [
        "table = [[\"Jeruk\",2],[\"Nanas\",2]]\n",
        "Judul = [\"Jenis buah\",\"Kuantitas\"]"
      ],
      "metadata": {
        "id": "UWmIdqnxy2X1"
      },
      "execution_count": null,
      "outputs": []
    },
    {
      "cell_type": "code",
      "source": [
        "print(table)\n",
        "print(tabulate(table,headers=Judul,tablefmt=\"pretty\"))"
      ],
      "metadata": {
        "colab": {
          "base_uri": "https://localhost:8080/"
        },
        "id": "0X8YMEj9zMwQ",
        "outputId": "3484456b-5a63-4351-efc7-f6271b0aefcf"
      },
      "execution_count": null,
      "outputs": [
        {
          "output_type": "stream",
          "name": "stdout",
          "text": [
            "[['Jeruk', 2], ['Nanas', 2]]\n",
            "+------------+-----------+\n",
            "| Jenis buah | Kuantitas |\n",
            "+------------+-----------+\n",
            "|   Jeruk    |     2     |\n",
            "|   Nanas    |     2     |\n",
            "+------------+-----------+\n"
          ]
        }
      ]
    },
    {
      "cell_type": "code",
      "source": [
        "table=[[\"Jeruk\",2,1000],[\"Nanas\",4,3000],[\"Mangga\",2]]\n",
        "Judul = [\"Jenis buah\",\"Kuantitas\",\"Harga\"]\n",
        "print(tabulate(table,headers=Judul,tablefmt=\"pretty\"))"
      ],
      "metadata": {
        "colab": {
          "base_uri": "https://localhost:8080/"
        },
        "id": "RE5Vf4gBznyH",
        "outputId": "1b12c4fa-da50-4c08-a66d-5f1e8170c981"
      },
      "execution_count": null,
      "outputs": [
        {
          "output_type": "stream",
          "name": "stdout",
          "text": [
            "+------------+-----------+-------+\n",
            "| Jenis buah | Kuantitas | Harga |\n",
            "+------------+-----------+-------+\n",
            "|   Jeruk    |     2     | 1000  |\n",
            "|   Nanas    |     4     | 3000  |\n",
            "|   Mangga   |     2     |       |\n",
            "+------------+-----------+-------+\n"
          ]
        }
      ]
    },
    {
      "cell_type": "code",
      "source": [],
      "metadata": {
        "id": "22LHuYpE0np7"
      },
      "execution_count": null,
      "outputs": []
    }
  ]
}