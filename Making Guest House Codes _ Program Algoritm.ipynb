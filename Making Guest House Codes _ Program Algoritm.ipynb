{
  "nbformat": 4,
  "nbformat_minor": 0,
  "metadata": {
    "colab": {
      "provenance": []
    },
    "kernelspec": {
      "name": "python3",
      "display_name": "Python 3"
    },
    "language_info": {
      "name": "python"
    }
  },
  "cells": [
    {
      "cell_type": "markdown",
      "source": [
        "Program ini adalah program untuk menentukan house dari masing-masing pelajar dengan ketentuan yaitu:\n",
        "\n",
        "1. Username terdiri atas 3 digit\n",
        "2. Nomor absen dimulai dari 00 sampai 99 dan diletakkan di belakang\n",
        "3. Terdapat kode house (G/H/R/S) di dalam username\n",
        "4. Setiap house terdiri atas 25 pelajar\n",
        "5. Penentuan house dilakukan secara acak oleh The Sorting Hat dimulai dari peserta dengan nomor absen terkecil\n",
        "6. Tidak ada house yang memiliki lebih dari 25 pelajar"
      ],
      "metadata": {
        "id": "Trx8Db2EZd30"
      }
    },
    {
      "cell_type": "code",
      "source": [
        "import random\n",
        "\n",
        "house = [\"G\",\"H\",\"R\",\"S\"] #list 4 kode house username\n",
        "house_array = [[],[],[],[]]\n",
        "for a in range(0,100) : #terdapat 100 kuota\n",
        "  for b in range (len(house)):\n",
        "    if len(house_array[b-1]) == 25 : #masing-masing house terdiri atas 25 orang\n",
        "        house_array.pop(b-1)\n",
        "        house.pop(b-1)\n",
        "\n",
        "  pilihan = random.randint(0, len(house)-1)\n",
        "\n",
        "  house_array[pilihan].append(a)\n",
        "\n",
        "  print(\"%s%02d\" % (house[pilihan], a))"
      ],
      "metadata": {
        "colab": {
          "base_uri": "https://localhost:8080/"
        },
        "id": "nExx4y_aabcu",
        "outputId": "2d8fef6f-ff8b-41e0-dd61-cb932c300737"
      },
      "execution_count": null,
      "outputs": [
        {
          "output_type": "stream",
          "name": "stdout",
          "text": [
            "G00\n",
            "R01\n",
            "H02\n",
            "G03\n",
            "S04\n",
            "S05\n",
            "H06\n",
            "H07\n",
            "S08\n",
            "H09\n",
            "R10\n",
            "G11\n",
            "G12\n",
            "S13\n",
            "H14\n",
            "S15\n",
            "H16\n",
            "S17\n",
            "S18\n",
            "S19\n",
            "H20\n",
            "G21\n",
            "R22\n",
            "R23\n",
            "G24\n",
            "R25\n",
            "H26\n",
            "H27\n",
            "R28\n",
            "R29\n",
            "R30\n",
            "H31\n",
            "R32\n",
            "H33\n",
            "G34\n",
            "S35\n",
            "H36\n",
            "S37\n",
            "H38\n",
            "H39\n",
            "R40\n",
            "G41\n",
            "H42\n",
            "S43\n",
            "H44\n",
            "R45\n",
            "S46\n",
            "S47\n",
            "G48\n",
            "R49\n",
            "G50\n",
            "G51\n",
            "G52\n",
            "S53\n",
            "R54\n",
            "G55\n",
            "G56\n",
            "R57\n",
            "S58\n",
            "S59\n",
            "G60\n",
            "R61\n",
            "H62\n",
            "G63\n",
            "G64\n",
            "R65\n",
            "R66\n",
            "R67\n",
            "G68\n",
            "S69\n",
            "R70\n",
            "R71\n",
            "G72\n",
            "S73\n",
            "R74\n",
            "R75\n",
            "S76\n",
            "G77\n",
            "S78\n",
            "H79\n",
            "H80\n",
            "H81\n",
            "G82\n",
            "H83\n",
            "S84\n",
            "R85\n",
            "R86\n",
            "H87\n",
            "R88\n",
            "H89\n",
            "G90\n",
            "H91\n",
            "H92\n",
            "S93\n",
            "S94\n",
            "G95\n",
            "S96\n",
            "S97\n",
            "G98\n",
            "G99\n"
          ]
        }
      ]
    },
    {
      "cell_type": "markdown",
      "source": [
        "SOAL BONUS\n",
        "\n",
        "Program ini adalah program untuk mengecek kekuatan fitur password dengan syarat yaitu:\n",
        "\n",
        "1. Panjang 5 digit atau lebih\n",
        "2. Mengandung huruf besar dan huruf kecil\n",
        "3. Mengandung angka\n",
        "4. Mengandung karakter khusus (~,!,@,#,$,%,^,&,*,<,>)"
      ],
      "metadata": {
        "id": "qRs68kZ2asKb"
      }
    },
    {
      "cell_type": "code",
      "source": [
        "print('Masukkan password Anda dengan syarat : ')                                 #print peraturan\n",
        "print('1. Memiliki panjang lebih dari sama dengan 5 karakter')\n",
        "print('2. Mengandung setidaknya satu huruf kapital')\n",
        "print('3. Mengandung setidaknya satu huruf kecil')\n",
        "print('4. Mengandung setidaknya satu angka')\n",
        "print('5. Mengandung setidaknya satu karakter')\n",
        "\n",
        "password=input('Enter your password: ')                                         #untuk insert password\n",
        "\n",
        "def passwordchecker(password):                                                  #membuat def\n",
        "  a= \"~\",\"!\",\"@\",\"#\",\"$\",\"%\",\"^\",\"&\",\"*\",\"<\",\">\"                                #list karakter khusus\n",
        "  if len(password)>=5 and any(string.isupper() for string in password) and any(string.islower() for string in password) and any(string.isnumeric() for string in password) and any(password) in a:\n",
        "    print('Password sudah kuat')                                                #peraturan harus terpenuhi semua dengan penghubung \"and\" akan mengoutput Password sudah kuat\n",
        "\n",
        "  else :\n",
        "    print ('Password belum kuat')                                               #apabila salah satu dari peraturan tidak terpenuhi akan mengoutpyt Password belum kuat\n",
        "(passwordchecker(password))"
      ],
      "metadata": {
        "id": "9lnuiDYQIHNC",
        "colab": {
          "base_uri": "https://localhost:8080/"
        },
        "outputId": "cf2d7443-4e77-4a66-dacd-e3ff45223371"
      },
      "execution_count": null,
      "outputs": [
        {
          "output_type": "stream",
          "name": "stdout",
          "text": [
            "Masukkan password Anda dengan syarat : \n",
            "1. Memiliki panjang lebih dari sama dengan 5 karakter\n",
            "2. Mengandung setidaknya satu huruf kapital\n",
            "3. Mengandung setidaknya satu huruf kecil\n",
            "4. Mengandung setidaknya satu angka\n",
            "5. Mengandung setidaknya satu karakter\n",
            "Enter your password: qirasundsadjsad\n",
            "Password belum kuat\n"
          ]
        }
      ]
    },
    {
      "cell_type": "code",
      "source": [],
      "metadata": {
        "id": "QEDJHdMRTant"
      },
      "execution_count": null,
      "outputs": []
    }
  ]
}