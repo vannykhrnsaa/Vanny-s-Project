{
  "cells": [
    {
      "cell_type": "markdown",
      "metadata": {
        "id": "phgrrBddhdAH"
      },
      "source": [
        "Program ini dibuat untuk membantu Luffy bertemu dengan Ace yang terkunci di Impel Down. Iya terkunci di ruangan ke \"k\", dari ruangan 1 sampai dengan K terdapat sebanyak \"n\" kode yang dapat membuat gembok. Kode tersebut merupakan kode acak yang terdiri atas angka dari 1-100. Terdapat sejumlah \"n\" genap kode di setiap gembok."
      ]
    },
    {
      "cell_type": "code",
      "execution_count": null,
      "metadata": {
        "colab": {
          "background_save": true,
          "base_uri": "https://localhost:8080/"
        },
        "id": "TCa6xOI7e1fW",
        "outputId": "e24bda87-9db1-455a-899d-cff6fe35088f"
      },
      "outputs": [
        {
          "name": "stdout",
          "output_type": "stream",
          "text": [
            "a_i: [41, 12]\n",
            "b_i: [-61, 76]\n",
            "\n",
            "a_i: [-51, -65, 49, -86, -98, -46]\n",
            "b_i: [11, 97, 91, -66, 81, 89]\n",
            "\n",
            "a_i: [-87, -95, 94, 84]\n",
            "b_i: [-88, 98, 65, 97]\n",
            "\n"
          ]
        }
      ],
      "source": [
        "import random\n",
        "while True:\n",
        "    K = int(input(\"Jumlah ruangan: \")) #k=jumlah ruangan\n",
        "    for i in range(1,K+1): #jumlah ruangan dari 1 ke k\n",
        "        Jumlah_gembok = int(input(f\"Jumlah gembok ruangan ke-{i}: \")) #n=jumlah gembok\n",
        "        while jumlah_gembok % 2 != 0:\n",
        "            print(\"Salah. Input harus genap!\\n\") #n harus genap\n",
        "            jumlah_gembok = int(input(f\"Jumlah gembok ruangan ke-{i}: \"))\n",
        "        my_list1 = []\n",
        "        my_list2 = []\n",
        "        for j in range(0,jumlah_gembok):\n",
        "            my_list1.append(random.randint(-100,100)) #range kode untuk a dari -100 hingga 100\n",
        "            my_list1!=0\n",
        "            my_list2.append(random.randint(-100,100)) #range kode untuk b dari -100 hingga 100\n",
        "            my_list2!=0\n",
        "        print(f\"a_i: {my_list1}\")    #print kode a\n",
        "        print(f\"b_i: {my_list2}\\n\")   #print kode b"
      ]
    },
    {
      "cell_type": "markdown",
      "metadata": {
        "id": "HOPWshrHhbam"
      },
      "source": [
        "Program ini adalah program untuk menentukan house dari masing-masing pelajar dengan ketentuan yaitu:\n",
        "\n",
        "1. Username terdiri atas 3 digit\n",
        "2. Nomor absen dimulai dari 00 sampai 99 dan diletakkan di belakang\n",
        "3. Terdapat kode house (G/H/R/S) di dalam username\n",
        "4. Setiap house terdiri atas 25 pelajar\n",
        "5. Penentuan house dilakukan secara acak oleh The Sorting Hat dimulai dari peserta dengan nomor absen terkecil\n",
        "6. Tidak ada house yang memiliki lebih dari 25 pelajar"
      ]
    },
    {
      "cell_type": "code",
      "source": [
        "import random\n",
        "\n",
        "house = [\"G\",\"H\",\"R\",\"S\"] #list 4 kode house username\n",
        "house_array = [[],[],[],[]]\n",
        "for a in range(0,100) : #terdapat 100 kuota\n",
        "  for b in range (len(house)):\n",
        "    if len(house_array[b-1]) == 25 : #masing-masing house terdiri atas 25 orang\n",
        "        house_array.pop(b-1)\n",
        "        house.pop(b-1)\n",
        "\n",
        "  pilihan = random.randint(0, len(house)-1)\n",
        "\n",
        "  house_array[pilihan].append(a)\n",
        "\n",
        "  print(\"%s%02d\" % (house[pilihan], a))"
      ],
      "metadata": {
        "colab": {
          "base_uri": "https://localhost:8080/"
        },
        "id": "FZlMWEUSIu6k",
        "outputId": "371b1fa4-596a-42fd-e5bf-65311d40ab77"
      },
      "execution_count": 3,
      "outputs": [
        {
          "output_type": "stream",
          "name": "stdout",
          "text": [
            "G00\n",
            "G01\n",
            "G02\n",
            "H03\n",
            "R04\n",
            "G05\n",
            "G06\n",
            "H07\n",
            "H08\n",
            "G09\n",
            "R10\n",
            "S11\n",
            "H12\n",
            "R13\n",
            "S14\n",
            "H15\n",
            "G16\n",
            "S17\n",
            "H18\n",
            "G19\n",
            "R20\n",
            "H21\n",
            "H22\n",
            "R23\n",
            "S24\n",
            "R25\n",
            "R26\n",
            "S27\n",
            "S28\n",
            "R29\n",
            "R30\n",
            "R31\n",
            "R32\n",
            "R33\n",
            "H34\n",
            "G35\n",
            "S36\n",
            "S37\n",
            "S38\n",
            "H39\n",
            "H40\n",
            "S41\n",
            "H42\n",
            "R43\n",
            "S44\n",
            "S45\n",
            "G46\n",
            "H47\n",
            "R48\n",
            "H49\n",
            "G50\n",
            "H51\n",
            "S52\n",
            "H53\n",
            "H54\n",
            "H55\n",
            "H56\n",
            "R57\n",
            "S58\n",
            "S59\n",
            "S60\n",
            "S61\n",
            "G62\n",
            "H63\n",
            "R64\n",
            "G65\n",
            "H66\n",
            "G67\n",
            "G68\n",
            "G69\n",
            "G70\n",
            "S71\n",
            "S72\n",
            "H73\n",
            "G74\n",
            "S75\n",
            "S76\n",
            "S77\n",
            "H78\n",
            "H79\n",
            "R80\n",
            "R81\n",
            "R82\n",
            "H83\n",
            "R84\n",
            "R85\n",
            "R86\n",
            "G87\n",
            "G88\n",
            "R89\n",
            "R90\n",
            "G91\n",
            "R92\n",
            "S93\n",
            "G94\n",
            "S95\n",
            "G96\n",
            "G97\n",
            "G98\n",
            "S99\n"
          ]
        }
      ]
    },
    {
      "cell_type": "markdown",
      "source": [
        "SOAL BONUS\n",
        "\n",
        "Program ini adalah program untuk mengecek kekuatan fitur password dengan syarat yaitu:\n",
        "\n",
        "1. Panjang 5 digit atau lebih\n",
        "2. Mengandung huruf besar dan huruf kecil\n",
        "3. Mengandung angka\n",
        "4. Mengandung karakter khusus (~,!,@,#,$,%,^,&,*,<,>)"
      ],
      "metadata": {
        "id": "n2JugUPxIxwx"
      }
    },
    {
      "cell_type": "code",
      "source": [
        "print('Masukkan password Anda dengan syarat : ')                                 #print peraturan\n",
        "print('1. Memiliki panjang lebih dari sama dengan 5 karakter')\n",
        "print('2. Mengandung setidaknya satu huruf kapital')\n",
        "print('3. Mengandung setidaknya satu huruf kecil')\n",
        "print('4. Mengandung setidaknya satu angka')\n",
        "print('5. Mengandung setidaknya satu karakter')\n",
        "\n",
        "password=input('Enter your password: ')                                         #untuk insert password\n",
        "\n",
        "def passwordchecker(password):                                                  #membuat def\n",
        "  a= \"~\",\"!\",\"@\",\"#\",\"$\",\"%\",\"^\",\"&\",\"*\",\"<\",\">\"                                #list karakter khusus\n",
        "  if len(password)>=5 and any(string.isupper() for string in password) and any(string.islower() for string in password) and any(string.isnumeric() for string in password) and any(password) in a:\n",
        "    print('Password sudah kuat')                                                #peraturan harus terpenuhi semua dengan penghubung \"and\" akan mengoutput Password sudah kuat\n",
        "\n",
        "  else :\n",
        "    print ('Password belum kuat')                                               #apabila salah satu dari peraturan tidak terpenuhi akan mengoutpyt Password belum kuat\n",
        "(passwordchecker(password))"
      ],
      "metadata": {
        "colab": {
          "base_uri": "https://localhost:8080/"
        },
        "id": "8WfGGyPrI0BL",
        "outputId": "73b0ddec-a52a-48cb-9f65-cdd567d35ba4"
      },
      "execution_count": 4,
      "outputs": [
        {
          "output_type": "stream",
          "name": "stdout",
          "text": [
            "Masukkan password Anda dengan syarat : \n",
            "1. Memiliki panjang lebih dari sama dengan 5 karakter\n",
            "2. Mengandung setidaknya satu huruf kapital\n",
            "3. Mengandung setidaknya satu huruf kecil\n",
            "4. Mengandung setidaknya satu angka\n",
            "5. Mengandung setidaknya satu karakter\n",
            "Enter your password: soahd284As.\n",
            "Password belum kuat\n"
          ]
        }
      ]
    },
    {
      "cell_type": "markdown",
      "source": [
        "Program ini adalah program untuk mengetahui berapa banyak gunung atau lembah yang dilewati oleh Messi berdasarkan catatan dari langkah-langkah yang dibuatnya. Di dalam catatannya terdapat beberapa istilah legenda sesuai dengan gambar dari langkah-langkah catatannya.\n",
        "\n",
        "Apabila ia melangkah turun dia akan mencatat \"T\"\n",
        "\n",
        "Apabila ia melangkah naik dia akan mencatat \"N\"\n",
        "\n",
        "Setiap langkah mewakili satu unit perubahan ketinggian dalam MDPL"
      ],
      "metadata": {
        "id": "IYf50J9OI9_8"
      }
    },
    {
      "cell_type": "code",
      "source": [
        "def hitung_lembah(steps, path):                                                 #definisi untuk menghitung lembah\n",
        "\n",
        "  MDPL = 0\n",
        "  lembah = 0\n",
        "\n",
        "  for steps in path :                                                                        #pengecekkan steps sesuai path\n",
        "\n",
        "    if steps == 'T':            #saat steps turun MDPL + 1\n",
        "      MDPL +=1\n",
        "\n",
        "    if steps == 'N':            #saat steps naik MDPL +1\n",
        "      MDPL -=1\n",
        "\n",
        "      if MDPL == 0:             #lembah +1 ketika steps turun=steps naik\n",
        "        lembah +=1\n",
        "\n",
        "  print(\"Jumlah lembah yang dilewati =\", end = \"\")\n",
        "  return lembah"
      ],
      "metadata": {
        "id": "pSs6O85FI_0r"
      },
      "execution_count": 5,
      "outputs": []
    },
    {
      "cell_type": "code",
      "source": [
        "def hitung_gunung(steps,path):\n",
        "\n",
        "  MDPL = 0\n",
        "  gunung = 0\n",
        "\n",
        "  for steps in path :\n",
        "\n",
        "    if steps == 'N':      #saat steps naik MDPL + 1\n",
        "      MDPL+=1\n",
        "\n",
        "    if steps == 'T':       #saat steps turun MDPL - 1\n",
        "      MDPL-=1\n",
        "\n",
        "    if MDPL == 0:       #gunung +1 ketika steps naik=steps turun\n",
        "        gunung+=1\n",
        "\n",
        "  print(\"Jumlah gunung yang dilewati= \", end = \"\")\n",
        "  return gunung"
      ],
      "metadata": {
        "id": "oIJrtT55JCi1"
      },
      "execution_count": 6,
      "outputs": []
    },
    {
      "cell_type": "code",
      "source": [
        "steps = 9\n",
        "path = \"NNTTNNTNT\"\n",
        "\n",
        "print(hitung_lembah(steps,path))\n",
        "print(hitung_gunung(steps,path))"
      ],
      "metadata": {
        "colab": {
          "base_uri": "https://localhost:8080/"
        },
        "id": "Jld9wjPlJEdE",
        "outputId": "a233d874-5508-4124-ddd2-14419f6aaf96"
      },
      "execution_count": 7,
      "outputs": [
        {
          "output_type": "stream",
          "name": "stdout",
          "text": [
            "Jumlah lembah yang dilewati =0\n",
            "Jumlah gunung yang dilewati= 1\n"
          ]
        }
      ]
    },
    {
      "cell_type": "markdown",
      "source": [
        "Program ini adalah program untuk membuat fungsi \"matriks_keren\" dengan ketentuan\n",
        "\n",
        "1. Fungsi tersebut menerima input array berukuran 1 × n berisi integer [k1, k2, k3, ... , n].\n",
        "2. Buat sebuah matriks A yang berukuran n × n dengan ketentuan entri sebagai berikut\n",
        "\n",
        "  a. Untuk entri ai,j pada matriks A dengan i = j (alias diagonal utama), berikan nilai 0\n",
        "\n",
        "  b. Untuk entri ai,j pada matriks A dengan i < j (alias elemen di atas diagonal utama), berikan nilai berupa 2 × (elemen array ke i) − (elemen array ke j)\n",
        "  \n",
        "  c. Untuk entri ai,j pada matriks A dengan i > j (alias elemen di bawah diagonal utama), berikan nilai berupa (elemen array ke i) + 2 × (elemen array ke j)\n",
        "\n",
        "3. Setelah mendapatkan suatu matriks A dari aturan di atas, Naruto ingin mengganti nilai pada diagonal utamanya (ai,i) dengan ketentuan sebagai berikut:\n",
        "  \n",
        "  a. Buat suatu submatriks dari A dengan menghilangkan semua entri baris-i dan kolom-i (seharusnya submatriks A memiliki ukuran n − 1 × n − 1 )\n",
        "\n",
        "  b. Isi diagonal utama submatriks yang terbentuk dengan nilai 0\n",
        "\n",
        "  c. Nilai entri ai,i dari matriks A adalah nilai maksimum dari entri submatriks yang telah terbentuk dari poin 3a dan 3b"
      ],
      "metadata": {
        "id": "aqlD14sJIfGe"
      }
    },
    {
      "cell_type": "code",
      "execution_count": 1,
      "metadata": {
        "id": "dj6Fx8ywe2SN"
      },
      "outputs": [],
      "source": [
        "import numpy  #mengimport modul numpy\n",
        "\n",
        "def matriks_keren(w) :\n",
        "    matriks_A = numpy.array([[0]*len(w) for i in range(len(w))])\n",
        "    for row in range(len(w)) :\n",
        "        for column in range(len(w)) :\n",
        "            if row == column :\n",
        "                matriks_A[row,column] = 0\n",
        "            if row < column :\n",
        "                matriks_A[row,column] = 2*w[row] - w[column]\n",
        "            if row > column :\n",
        "                matriks_A[row,column] = w[row] + 2*w[column]\n",
        "    for row_A in range(len(w)) :\n",
        "        for column_A in range(len(w)) :\n",
        "            if row_A == column_A :\n",
        "                matriks_B = matriks_A.copy()\n",
        "                matriks_B = numpy.delete(matriks_B,column_A,1)\n",
        "                matriks_B = numpy.delete(matriks_B,row_A,0)\n",
        "                for row_B in range(len(matriks_B)) :\n",
        "                    for column_B in range(len(matriks_B)) :\n",
        "                        if row_B == column_B :\n",
        "                            matriks_B[row_B,column_B] = 0\n",
        "                matriks_A[row_A,column_A] = matriks_B.max()\n",
        "    print(f\"{matriks_A}\")"
      ]
    },
    {
      "cell_type": "code",
      "source": [
        "matriks_keren([9,4,2,5])"
      ],
      "metadata": {
        "colab": {
          "base_uri": "https://localhost:8080/"
        },
        "id": "CGnsFgveIg8a",
        "outputId": "4bddf7dd-07ad-4c21-d2f6-7efbd952e9b3"
      },
      "execution_count": 2,
      "outputs": [
        {
          "output_type": "stream",
          "name": "stdout",
          "text": [
            "[[13 14 16 13]\n",
            " [22 23  6  3]\n",
            " [20 10 23 -1]\n",
            " [23 13  9 22]]\n"
          ]
        }
      ]
    },
    {
      "cell_type": "code",
      "source": [],
      "metadata": {
        "id": "haxTcJqxIisx"
      },
      "execution_count": null,
      "outputs": []
    }
  ],
  "metadata": {
    "colab": {
      "provenance": []
    },
    "kernelspec": {
      "display_name": "Python 3",
      "name": "python3"
    },
    "language_info": {
      "name": "python"
    }
  },
  "nbformat": 4,
  "nbformat_minor": 0
}