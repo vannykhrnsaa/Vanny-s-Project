{
  "nbformat": 4,
  "nbformat_minor": 0,
  "metadata": {
    "colab": {
      "provenance": []
    },
    "kernelspec": {
      "name": "python3",
      "display_name": "Python 3"
    },
    "language_info": {
      "name": "python"
    }
  },
  "cells": [
    {
      "cell_type": "markdown",
      "source": [
        "#Identitas\n",
        "Nama : Vanny Khairunnisaa\n",
        "\n",
        "NPM : 2206051506\n",
        "\n",
        "Kelas : Metode Numerik A\n",
        "\n",
        "Dosen Pengampu : Ibu Bevina"
      ],
      "metadata": {
        "id": "Qoj4KGRxsw3_"
      }
    },
    {
      "cell_type": "markdown",
      "source": [
        "#Penjelasan Program"
      ],
      "metadata": {
        "id": "SJhuiamSs0kE"
      }
    },
    {
      "cell_type": "markdown",
      "source": [
        "##Ide Algoritma\n",
        "1. Menggunakan module numpy untuk membantu program.\n",
        "2. Di dalam program sudah tercantumkan npm yang kemudian akan memberikan nilai k = NPM mod 3.\n",
        "3. Program akan memberikan input SPL.\n",
        "4. Program akan memberikan SPL dalam bentuk augmentasi matriks.\n",
        "5. Program akan meminta input precision untuk nilai pembulatan.\n",
        "6. Program akan melakukan metode langsung pada SPL yang telah diberikan. Dengan kententuan:\n",
        "\n",
        "    a. k=0 metode langsung eliminasi Gauss tanpa strategi pivoting.\n",
        "\n",
        "    b. k=1 metode langsung partial pivoting.\n",
        "\n",
        "    c. k=2 metode langsung scaled partial pivoting.\n",
        "\n",
        "7. Program akan memberikan hasil dari metode langsung sebagai berikut:\n",
        "\n",
        "    a. metode langsung tanpa pembulatan\n",
        "\n",
        "    b. metode langsung dan fungsi substitusi balik tanpa pembulatan\n",
        "\n",
        "    c. metode langsung dengan pembulatan\n",
        "\n",
        "    d. metode langsung dan fungsi substitusi balik dengan pembulatan\n",
        "\n",
        "    e. round off error (mutlak selisih solusi)\n",
        "\n",
        "8. Program selesai.\n"
      ],
      "metadata": {
        "id": "Pt0cVMyRs3qM"
      }
    },
    {
      "cell_type": "markdown",
      "source": [
        "##Cara menjalankan program:\n",
        "\n",
        "1. Klik \"Runtime\" pada bar menu di atas dan pilih \"Run All\".\n",
        "2. Buat code baru di bawah dan tuliskan \"VannyTuPrakMetnum5()\"\n",
        "3. Masukkan semua data yang diminta oleh program.\n",
        "4. Program akan memberikan output yang telah dijelaskan pada ide algoritma di atas.\n"
      ],
      "metadata": {
        "id": "3Xp15I5mvRpp"
      }
    },
    {
      "cell_type": "markdown",
      "source": [
        "##Data yang ada pada perintah Tugas Praktikum METNUM 5\n",
        "1. SPL = [ [1.19, 2.11, -100, 1, 1.12], [14.2,\n",
        "-0.122, 12.2, -1, 3.44], [0, 100, -99.9, 1, 2.15], [15.3, 0.110,\n",
        "-13.1, -1, 4.16] ]\n",
        "2. precision = 3"
      ],
      "metadata": {
        "id": "I_8DG5dzvb_Z"
      }
    },
    {
      "cell_type": "markdown",
      "source": [
        "##IMPORT MODULE"
      ],
      "metadata": {
        "id": "XO962LL5vmK-"
      }
    },
    {
      "cell_type": "code",
      "source": [
        "import numpy as np"
      ],
      "metadata": {
        "id": "EYJ4Tm86vpf8"
      },
      "execution_count": null,
      "outputs": []
    },
    {
      "cell_type": "markdown",
      "source": [
        "##METODE LANGSUNG ELIMINASI GAUSS"
      ],
      "metadata": {
        "id": "dhU8loymvtcj"
      }
    },
    {
      "cell_type": "code",
      "source": [
        "def EliminasiGauss(matriks_input,precision):\n",
        "    # konversi matriks_input jadi matriks baru yang isinya float semua,\n",
        "    # karena apabila ada bilangan bulat, bisa jadi dilakukan integer division\n",
        "    # yang bisa sangat memperparah error\n",
        "    matriks = matriks_input.astype(float)\n",
        "\n",
        "    # memperoleh ukuran baris dari matriks diperbesar\n",
        "    n = np.shape(matriks)[0]\n",
        "    # Ingat bahwa ukuran matriks diperbesar adalah n x (n+1)\n",
        "\n",
        "    for i in range (n): # untuk kolom ke-i (dari kolom awal sampai ke-n)\n",
        "        # Saat ini, kita sedang melakukan eliminasi Gauss untuk kolom ke-i.\n",
        "        # Semua nilai koefisien di bawah elemen diagonal akan dibuat nol\n",
        "\n",
        "        # Sebelum mengeliminasi, kita perlu memastikan elemen diagonal taknol.\n",
        "        # Kalau misalnya nol, kita perlu melihat baris-baris berikutnya\n",
        "        # untuk bertukar baris agar elemen diagonal menjadi taknol\n",
        "\n",
        "        # Variabel p (\"pivot\") akan digunakan untuk melihat baris.\n",
        "        # Kita lihat dulu baris ke-i\n",
        "        p = i\n",
        "        # sehingga, saat ini, matriks[p,i] adalah elemen diagonal.\n",
        "        # Ingat, elemen diagonal harusnya taknol.\n",
        "\n",
        "        # Kalau ternyata nilai elemen tersebut adalah nol,\n",
        "        # lanjut melihat di bawahnya (mencari calon baris yang bisa ditukar),\n",
        "        # dan kalau masih nol, lihat ke bawahnya lagi, dan seterusnya\n",
        "        while p<n and matriks[p,i]==0:\n",
        "            p += 1\n",
        "        # tapi jangan sampai keluar dari matriks (melewati baris terakhir),\n",
        "        # makanya dibuat syarat p<n\n",
        "\n",
        "        # Kalau sudah keluar dari matriks, artinya semua elemen di bawah\n",
        "        # diagonal, bahkan termasuk elemen diagonal, itu nol semua.\n",
        "        # Sayangnya, SPL tidak bisa diselesaikan\n",
        "        if p == n:\n",
        "            return \"SPL tidak memiliki solusi unik.\"\n",
        "        # Namun, kalau bisa diselesaikan, lanjut...\n",
        "        else:\n",
        "            # Tadinya, p melihat baris ke-i.\n",
        "            # Kalau p sudah pindah ke bawahnya (sudah tidak sama dengan i),\n",
        "            # artinya elemen diagonal saat ini bernilai nol, dan perlu ditukar\n",
        "            # dengan baris di bawahnya yang nilainya taknol (yaitu yang sedang\n",
        "            # ditunjuk oleh indeks p). Maka tukarlah\n",
        "            if p != i:\n",
        "                matriks[[p,i], :] = matriks[[i,p], :]\n",
        "                # syntax khusus numpy untuk menukar baris ke-i dan\n",
        "                # baris ke-p, di mana semua nilai per kolom masih sama,\n",
        "                # maksudnya tidak ada kolom yang ditukar, sehingga ditulis :\n",
        "\n",
        "            # Ada pertukaran maupun tidak, yang pasti, sekarang elemen diagonal\n",
        "            # sudah aman, sudah pasti taknol. Mari lanjut ke proses eliminasi.\n",
        "            # Lakukan untuk tiap baris ke-j, yaitu untuk semua baris di bawah\n",
        "            # elemen diagonal.\n",
        "            for j in range (i+1, n):\n",
        "                # Melakukan proses eliminasi dengan OBE (sesuai rumus di atas)\n",
        "                m = np.around(matriks[j,i]/matriks[i,i],precision) # m: \"multiplier\" atau pengkali\n",
        "                matriks[j] = np.around(matriks[j]-m*matriks[i],precision)\n",
        "                # (E_j) <- ( E_j - m * E_i )\n",
        "    # Setelah semua itu dilakukan untuk tiap kolom, eliminasi Gauss selesai\n",
        "    return matriks\n"
      ],
      "metadata": {
        "id": "5iiwV_5nvssK"
      },
      "execution_count": null,
      "outputs": []
    },
    {
      "cell_type": "markdown",
      "source": [
        "##SUBSTITUSI BALIK"
      ],
      "metadata": {
        "id": "BpzZRC3Uv1cg"
      }
    },
    {
      "cell_type": "code",
      "source": [
        "def SubstitusiBalik(matriks_input,precision):\n",
        "    # jaga-jaga\n",
        "    matriks = matriks_input.astype(float)\n",
        "\n",
        "    # memperoleh ukuran baris dari matriks diperbesar\n",
        "    n = np.shape(matriks)[0]\n",
        "\n",
        "    # vektor solusi, sementara isi dengan nol dulu\n",
        "    solution = np.zeros(n)\n",
        "\n",
        "    # lakukan dulu yang paling mudah, yaitu untuk baris paling bawah\n",
        "    solution[n-1] = np.around(matriks[n-1, n]/matriks[n-1, n-1],precision)\n",
        "\n",
        "    # untuk baris-baris di atasnya, kita lakukan for loop, menghitung mundur,\n",
        "    # terapkan rumus substitusi balik\n",
        "    for i in range (n-2, -1, -1):\n",
        "        # hitung sumasi, simpan langsung ke matriks[i,n]\n",
        "        # agar langsung dijumlahkan ke b_i yaitu a_{i,n+1}\n",
        "        for j in range(i+1, n):\n",
        "            matriks[i,n] = np.around(matriks[i,n] - matriks[i,j] * solution[j],precision)\n",
        "        # peroleh solusi menggunakan rumus (dan memanfaatkan hasil sumasi)\n",
        "        solution[i] = np.around(matriks[i,n]/matriks[i,i],precision)\n",
        "    return solution"
      ],
      "metadata": {
        "id": "Hkryn9wGv7OL"
      },
      "execution_count": null,
      "outputs": []
    },
    {
      "cell_type": "markdown",
      "source": [
        "## DEFINISI VannyTuPrakMetnum5()"
      ],
      "metadata": {
        "id": "15a6jUA8wBFP"
      }
    },
    {
      "cell_type": "code",
      "source": [
        "def VannyTuPrakMetnum5():\n",
        "    npm = 2206051506\n",
        "    mod = npm % 3\n",
        "    print(\"NPM saya\", npm ,\"sehingga k =\", mod,\".\")\n",
        "    print(\"Karena k = 0, akan digunakan eliminasi Gauss tanpa strategi pivoting.\")\n",
        "\n",
        "    aug_matriks = np.array(eval(input('Masukkan SPL yang ingin dicoba: ')))\n",
        "    # mengubah input Anda ke dalam array numpy (matriks)\n",
        "    print()\n",
        "\n",
        "    print(\"Akan diselesaikan SPL dengan matriks diperbesar sebagai berikut:\")\n",
        "    print(aug_matriks)\n",
        "    print()\n",
        "\n",
        "    print(\"Akan dicoba tanpa dan dengan pembulatan\")\n",
        "    precision=eval(input(\"Masukkan precision (sekian angka di belakang koma): \"))\n",
        "    print()\n",
        "\n",
        "    print(\"Tanpa pembulatan, eliminasi Gauss menghasilkan:\")\n",
        "    nonbul=EliminasiGauss(aug_matriks,100)\n",
        "    print(nonbul)\n",
        "\n",
        "    print()\n",
        "    print(\"Kemudian, substitusi balik menghasilkan solusi:\")\n",
        "    solnonbul=SubstitusiBalik(nonbul,100)\n",
        "    print(solnonbul)\n",
        "\n",
        "    print()\n",
        "    print(\"Dengan pembulatan, eliminasi Gauss menghasilkan:\")\n",
        "    bul=EliminasiGauss(aug_matriks,precision)\n",
        "    print(bul)\n",
        "\n",
        "    print()\n",
        "    print(\"Kemudian, substitusi balik dengan pembulatan menghasilkan solusi:\")\n",
        "    solbul=SubstitusiBalik(bul,precision)\n",
        "    print(solbul)\n",
        "\n",
        "    print()\n",
        "    print(\"Round-off error adalah mutlak selisih di antara kedua hasil solusi,yaitu:\")\n",
        "    error=np.absolute(solbul-solnonbul)\n",
        "    print(error)"
      ],
      "metadata": {
        "id": "c3nBi77Ov_p2"
      },
      "execution_count": null,
      "outputs": []
    },
    {
      "cell_type": "code",
      "source": [
        "VannyTuPrakMetnum5()"
      ],
      "metadata": {
        "colab": {
          "base_uri": "https://localhost:8080/"
        },
        "id": "g5s_aR72mr5x",
        "outputId": "19a5ab3d-941c-4730-aea0-07c90fdee992"
      },
      "execution_count": null,
      "outputs": [
        {
          "output_type": "stream",
          "name": "stdout",
          "text": [
            "NPM saya 2206051506 sehingga k = 0 .\n",
            "Karena k = 0, akan digunakan eliminasi Gauss tanpa strategi pivoting.\n",
            "Masukkan SPL yang ingin dicoba: [ [1.19, 2.11, -100, 1, 1.12], [14.2, -0.122, 12.2, -1, 3.44], [0, 100, -99.9, 1, 2.15], [15.3, 0.110, -13.1, -1, 4.16] ]\n",
            "\n",
            "Akan diselesaikan SPL dengan matriks diperbesar sebagai berikut:\n",
            "[[   1.19     2.11  -100.       1.       1.12 ]\n",
            " [  14.2     -0.122   12.2     -1.       3.44 ]\n",
            " [   0.     100.     -99.9      1.       2.15 ]\n",
            " [  15.3      0.11   -13.1     -1.       4.16 ]]\n",
            "\n",
            "Akan dicoba tanpa dan dengan pembulatan\n",
            "Masukkan precision (sekian angka di belakang koma): 3\n",
            "\n",
            "Tanpa pembulatan, eliminasi Gauss menghasilkan:\n",
            "[[ 1.19000000e+00  2.11000000e+00 -1.00000000e+02  1.00000000e+00\n",
            "   1.12000000e+00]\n",
            " [ 0.00000000e+00 -2.53001513e+01  1.20547731e+03 -1.29327731e+01\n",
            "  -9.92470588e+00]\n",
            " [ 0.00000000e+00  0.00000000e+00  4.66480397e+03 -5.01173747e+01\n",
            "  -3.70778520e+01]\n",
            " [ 0.00000000e+00  0.00000000e+00  0.00000000e+00 -2.04328072e-01\n",
            "   2.41640155e-01]]\n",
            "\n",
            "Kemudian, substitusi balik menghasilkan solusi:\n",
            "[ 0.1768253   0.01269269 -0.02065405 -1.1826087 ]\n",
            "\n",
            "Dengan pembulatan, eliminasi Gauss menghasilkan:\n",
            "[[ 1.190000e+00  2.110000e+00 -1.000000e+02  1.000000e+00  1.120000e+00]\n",
            " [-0.000000e+00 -2.530100e+01  1.205500e+03 -1.293300e+01 -9.925000e+00]\n",
            " [ 0.000000e+00  1.000000e-02  4.664236e+03 -5.011100e+01 -3.707400e+01]\n",
            " [ 0.000000e+00  3.000000e-03 -8.810000e-01 -1.950000e-01  2.490000e-01]]\n",
            "\n",
            "Kemudian, substitusi balik dengan pembulatan menghasilkan solusi:\n",
            "[ 0.171 -0.003 -0.022 -1.277]\n",
            "\n",
            "Round-off error adalah mutlak selisih di antara kedua hasil solusi,yaitu:\n",
            "[0.0058253  0.01569269 0.00134595 0.0943913 ]\n"
          ]
        }
      ]
    }
  ]
}